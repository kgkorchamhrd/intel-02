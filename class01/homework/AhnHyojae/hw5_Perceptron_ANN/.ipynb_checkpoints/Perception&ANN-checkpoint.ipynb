{
 "cells": [
  {
   "cell_type": "code",
   "execution_count": null,
   "metadata": {},
   "outputs": [],
   "source": [
    "import tensorflow as tf\n",
    "import matplotlib.pyplot as plt\n",
    "import numpy as np\n",
    "from tensorflow.keras import Sequential\n",
    "from tensorflow.keras.layers import Flatten, Dense \n",
    "\n",
    "mnist = tf.keras.datasets.mnist\n",
    "(image_train, label_train), (image_test, label_test) = mnist.load_data()"
   ]
  },
  {
   "cell_type": "code",
   "execution_count": null,
   "metadata": {},
   "outputs": [],
   "source": [
    "#Perception\n",
    "print(\"Train Image shape : \",image_train.shape)\n",
    "print(\"Train Labe : \",label_train,\"\\n\")\n",
    "print(image_train[0])\n",
    "\n",
    "NUM=20\n",
    "plt.figure(figsize=(15,15))\n",
    "for idx in range(NUM):\n",
    " sp = plt.subplot(5,5,idx+1)\n",
    " plt.imshow(image_train[idx])\n",
    " plt.title(f'Label: {label_train[idx]}')\n",
    "plt.show()"
   ]
  },
  {
   "cell_type": "code",
   "execution_count": null,
   "metadata": {},
   "outputs": [],
   "source": [
    "#ANN\n",
    "model = Sequential([\n",
    "    Flatten(),\n",
    "    Dense(128, activation='sigmoid'),\n",
    "    Dense(64, activation='sigmoid'),\n",
    "    Dense(10, activation='softmax'),\n",
    "], name=\"Simple-ANN\")\n",
    "\n",
    "model.compile(\n",
    "    optimizer='adam',\n",
    "    loss='sparse_categorical_crossentropy',\n",
    "    metrics=['accuracy'],\n",
    ")\n",
    "\n",
    "model.fit(image_train, label_train,\n",
    "          epochs=10, batch_size=10)\n",
    "\n",
    "model.summary()\n",
    "\n",
    "model.save(\"mnist_ANN.h5\")"
   ]
  }
 ],
 "metadata": {
  "language_info": {
   "name": "python"
  }
 },
 "nbformat": 4,
 "nbformat_minor": 2
}
