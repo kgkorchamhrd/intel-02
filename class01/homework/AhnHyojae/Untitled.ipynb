{
 "cells": [
  {
   "cell_type": "code",
   "execution_count": 1,
   "id": "a666d849-a1c3-4fbf-8543-6d53d7a8e803",
   "metadata": {},
   "outputs": [],
   "source": [
    "import numpy as np"
   ]
  },
  {
   "cell_type": "code",
   "execution_count": 2,
   "id": "109c8a69-8ff8-44d7-a944-8a841011d218",
   "metadata": {},
   "outputs": [],
   "source": [
    "def sigmoid(x):\n",
    "    return 1/(1+np.exp(-x))"
   ]
  },
  {
   "cell_type": "code",
   "execution_count": 3,
   "id": "20488801-0bd0-448b-9051-2c888edc40de",
   "metadata": {},
   "outputs": [],
   "source": [
    "def numerical_derivative(f, x):\n",
    "    delta_x=1e-4\n",
    "    gradf=np.zeros_like(x)\n",
    "    \n",
    "    it = np.nditer(x, flags=['multi_index'], op_flags=['readwrite'])\n",
    "    \n",
    "    while not it.finished:\n",
    "        idx=it.multi_index\n",
    "        tmp_val=x[idx]\n",
    "        x[idx]=float(tmp_val)+delta_x\n",
    "        fx1=f(x)\n",
    "        \n",
    "        x[idx]=float(tmp_val)-delta_x\n",
    "        fx2=f(x)\n",
    "        gradf[idx]=(fx1-fx2)/(2*delta_x)\n",
    "        \n",
    "        x[idx]=tmp_val\n",
    "        it.iternext()\n",
    "    return gradf"
   ]
  },
  {
   "cell_type": "code",
   "execution_count": 4,
   "id": "5e1902d2-4502-41af-b9de-b4bf6bd67ed9",
   "metadata": {},
   "outputs": [],
   "source": [
    "class logicGate:\n",
    "    def __init__(self, gate_name, xdata, tdata, learning_rate=0.01, threshold=0.5):\n",
    "        self.name=gate_name\n",
    "        \n",
    "        self.__xdata=xdata.reshape(4, 2)\n",
    "        self.__tdata=tdata.reshape(4, 1)\n",
    "        \n",
    "        self.__w=np.random.rand(2, 1)\n",
    "        self.__b=np.random.rand(1)\n",
    "        \n",
    "        self.__learning_rate=learning_rate\n",
    "        self.__threshold=threshold\n",
    "    \n",
    "    def __loss_func(self):\n",
    "        delta=1e-7\n",
    "        \n",
    "        z=np.dot(self.__xdata, self.__w)+self.__b\n",
    "        y=sigmoid(z)\n",
    "        return -np.sum(self.__tdata*np.log(y+delta)+(1-self.__tdata)*np.log((1-y)+delta))\n",
    "    \n",
    "    def err_val(self):\n",
    "        delta=1e-7\n",
    "        \n",
    "        z=np.dot(self.__xdata, self.__w)+self.__b\n",
    "        y=sigmoid(z)\n",
    "        \n",
    "        return -np.sum(self.__tdata*np.log(y+delta)+(1-self.__tdata)*np.log((1-y)+delta))\n",
    "    \n",
    "    def train(self):\n",
    "        \n",
    "        f=lambda x : self.__loss_func()\n",
    "        \n",
    "        print(\"init error : \", self.err_val())\n",
    "        \n",
    "        for stp in range(20000):\n",
    "            self.__w -= self.__learning_rate * numerical_derivative(f, self.__w)\n",
    "            self.__b -= self.__learning_rate * numerical_derivative(f, self.__b)\n",
    "            \n",
    "            if (stp % 2000 ==0):\n",
    "                print(\"step : \", stp, \"error : \", self.err_val())\n",
    "\n",
    "    def predict(self, input_data):\n",
    "        z=np.dot(input_data, self.__w) + self.__b\n",
    "        y=sigmoid(z)\n",
    "        \n",
    "        if y[0]>self.__threshold:\n",
    "            result = 1\n",
    "        else:\n",
    "            result = 0\n",
    "        \n",
    "        return y, result"
   ]
  },
  {
   "cell_type": "code",
   "execution_count": 5,
   "id": "bfb1b183-2c2e-442a-b87e-bf96602ad163",
   "metadata": {},
   "outputs": [
    {
     "name": "stdout",
     "output_type": "stream",
     "text": [
      "init error :  2.998792512675613\n",
      "step :  0 error :  2.9911924012774156\n",
      "step :  2000 error :  0.6860529249178491\n",
      "step :  4000 error :  0.3993610562642981\n",
      "step :  6000 error :  0.2794903462078334\n",
      "step :  8000 error :  0.21399416586207548\n",
      "step :  10000 error :  0.17293001206200048\n",
      "step :  12000 error :  0.14487028050470924\n",
      "step :  14000 error :  0.12452590326467214\n",
      "step :  16000 error :  0.10912162569894793\n",
      "step :  18000 error :  0.09706504799631815\n",
      "[0 0]  :  1\n",
      "[0 1]  :  1\n",
      "[1 0]  :  1\n",
      "[1 1]  :  0\n"
     ]
    }
   ],
   "source": [
    "#OR\n",
    "xdata = np.array([[0,0], [0,1], [1,0], [1,1]])\n",
    "tdata = np.array([[1, 1, 1, 0]])\n",
    "\n",
    "AND_gate =  logicGate(\"AND_GATE\", xdata, tdata,)\n",
    "AND_gate.train()\n",
    "\n",
    "for in_data in xdata:\n",
    "    (slg_val, logic_val)=AND_gate.predict(in_data)\n",
    "    print(in_data, \" : \", logic_val)"
   ]
  },
  {
   "cell_type": "code",
   "execution_count": 6,
   "id": "a5ea050b-6d44-4590-b05d-3116d54b8188",
   "metadata": {},
   "outputs": [
    {
     "name": "stdout",
     "output_type": "stream",
     "text": [
      "init error :  5.0254850430395255\n",
      "step :  0 error :  4.935026018752023\n",
      "step :  2000 error :  0.4357503935302474\n",
      "step :  4000 error :  0.233865566734374\n",
      "step :  6000 error :  0.15769504327505787\n",
      "step :  8000 error :  0.11836427368166362\n",
      "step :  10000 error :  0.09451660129451354\n",
      "step :  12000 error :  0.07856791355797138\n",
      "step :  14000 error :  0.0671735784857301\n",
      "step :  16000 error :  0.058636875094214023\n",
      "step :  18000 error :  0.05200790647204846\n",
      "[0 0]  :  1\n",
      "[0 1]  :  0\n",
      "[1 0]  :  0\n",
      "[1 1]  :  0\n"
     ]
    }
   ],
   "source": [
    "#NAND\n",
    "xdata = np.array([[0,0], [0,1], [1,0], [1,1]])\n",
    "tdata = np.array([[1, 0, 0, 0]])\n",
    "\n",
    "AND_gate =  logicGate(\"AND_GATE\", xdata, tdata,)\n",
    "AND_gate.train()\n",
    "\n",
    "for in_data in xdata:\n",
    "    (slg_val, logic_val)=AND_gate.predict(in_data)\n",
    "    print(in_data, \" : \", logic_val)"
   ]
  },
  {
   "cell_type": "code",
   "execution_count": null,
   "id": "3ab90386-d4b7-4c09-9f66-670846e500be",
   "metadata": {},
   "outputs": [],
   "source": []
  }
 ],
 "metadata": {
  "kernelspec": {
   "display_name": "Python 3 (ipykernel)",
   "language": "python",
   "name": "python3"
  },
  "language_info": {
   "codemirror_mode": {
    "name": "ipython",
    "version": 3
   },
   "file_extension": ".py",
   "mimetype": "text/x-python",
   "name": "python",
   "nbconvert_exporter": "python",
   "pygments_lexer": "ipython3",
   "version": "3.10.12"
  }
 },
 "nbformat": 4,
 "nbformat_minor": 5
}
