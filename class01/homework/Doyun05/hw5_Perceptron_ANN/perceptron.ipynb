{
 "cells": [
  {
   "cell_type": "code",
   "execution_count": 21,
   "id": "fa0f55c1-e0e6-42e7-ab3d-696071172ebf",
   "metadata": {},
   "outputs": [],
   "source": [
    "import numpy as np"
   ]
  },
  {
   "cell_type": "code",
   "execution_count": 28,
   "id": "727d516f-faf9-4b7c-bd97-437464d170ed",
   "metadata": {},
   "outputs": [],
   "source": [
    "def sigmoid(x):\n",
    "    return 1/(1+np.exp(-x))"
   ]
  },
  {
   "cell_type": "code",
   "execution_count": 46,
   "id": "5d71459b-8b20-4893-b44d-c4797ca84351",
   "metadata": {},
   "outputs": [],
   "source": [
    "def numerical_derivative(f,x):\n",
    "    delta_x = 1e-4\n",
    "    gradf = np.zeros_like(x)\n",
    "\n",
    "    it = np.nditer(x, flags = ['multi_index'],op_flags=['readwrite'])\n",
    "\n",
    "    while not it.finished:\n",
    "        idx = it.multi_index\n",
    "        tmp_val = x[idx]\n",
    "        x[idx] = float(tmp_val) + delta_x\n",
    "        fx1 = f(x)\n",
    "\n",
    "        x[idx] = float(tmp_val)-delta_x\n",
    "        fx2 = f(x)\n",
    "        gradf[idx] = (fx1 - fx2) / (2*delta_x)\n",
    "\n",
    "        x[idx] = tmp_val\n",
    "        it.iternext()\n",
    "    return gradf"
   ]
  },
  {
   "cell_type": "code",
   "execution_count": 47,
   "id": "ebe150d1-d6d2-4ea7-b2f3-367b01e61c8f",
   "metadata": {},
   "outputs": [],
   "source": [
    "class logicGate:\n",
    "    def __init__(self,gate_name,xdata,tdata,learning_rate = 0.01, threshold = 0.5):\n",
    "        self.name = gate_name\n",
    "\n",
    "        self.__xdata = xdata.reshape(4,2)\n",
    "        self.__tdata = tdata.reshape(4,1)\n",
    "\n",
    "        self.__w=np.random.rand(2,1)\n",
    "        self.__b=np.random.rand(1)\n",
    "\n",
    "        self.__learning_rate = learning_rate\n",
    "        self.__threshold = threshold\n",
    "\n",
    "    def __loss_func(self):\n",
    "        delta = 1e-7\n",
    "\n",
    "        z = np.dot(self.__xdata, self.__w) + self.__b\n",
    "        y = sigmoid(z)\n",
    "\n",
    "        return -np.sum(self.__tdata * np.log(y+delta) + (1-self.__tdata) * np.log((1-y) + delta))\n",
    "\n",
    "    def err_val(self):\n",
    "        delta = 1e-7\n",
    "\n",
    "        z = np.dot(self.__xdata, self.__w) + self.__b\n",
    "        y = sigmoid(z)\n",
    "\n",
    "        return -np.sum(self.__tdata * np.log(y+delta) + (1 - self.__tdata) * np.log((1-y) + delta))\n",
    "        \n",
    "    def train(self):\n",
    "\n",
    "        f = lambda x : self.__loss_func()\n",
    "\n",
    "        print(\"init error : \" ,self.err_val())\n",
    "\n",
    "        for stp in range(20000):\n",
    "            self.__w -= self.__learning_rate * numerical_derivative(f,self.__w)\n",
    "            self.__b -= self.__learning_rate * numerical_derivative(f,self.__b)\n",
    "\n",
    "            if (stp % 2000 == 0):\n",
    "                print(\"step : \", stp, \"error : \", self.err_val())\n",
    "\n",
    "    def predict(self, input_data):\n",
    "\n",
    "        z = np.dot(input_data, self.__w) + self.__b\n",
    "        y = sigmoid(z)\n",
    "        #print(z,y,np.shepe(self.__w))\n",
    "\n",
    "        if y[0] > self.__threshold:\n",
    "            result = 1\n",
    "        else :\n",
    "            result = 0\n",
    "        #print(\"weighting : \", self.__w, \"b : \",self.__b)\n",
    "\n",
    "        return y, result"
   ]
  },
  {
   "cell_type": "code",
   "execution_count": 48,
   "id": "8b37d5f5-cafe-4afd-bafc-6132dc130bba",
   "metadata": {},
   "outputs": [
    {
     "name": "stdout",
     "output_type": "stream",
     "text": [
      "init error :  2.954116079766769\n",
      "step :  0 error :  2.9481708983408423\n",
      "step :  2000 error :  0.6886222013731316\n",
      "step :  4000 error :  0.40025215997716834\n",
      "step :  6000 error :  0.2799369243757202\n",
      "step :  8000 error :  0.2142600710496791\n",
      "step :  10000 error :  0.17310553319780542\n",
      "step :  12000 error :  0.1449944205202809\n",
      "step :  14000 error :  0.124618159749745\n",
      "step :  16000 error :  0.10919278900828445\n",
      "step :  18000 error :  0.09712155711343123\n",
      "[0 0]  :  1\n",
      "[0 1]  :  1\n",
      "[1 0]  :  1\n",
      "[1 1]  :  0\n"
     ]
    }
   ],
   "source": [
    "xdata = np.array([[0,0], [0,1], [1,0], [1,1]])\n",
    "tdata = np.array([[1,1,1,0]])\n",
    "\n",
    "AND_gate = logicGate(\"AND_GATE\", xdata,tdata,)\n",
    "AND_gate.train()\n",
    "\n",
    "for in_data in xdata:\n",
    "    (sig_val, logic_val) = AND_gate.predict(in_data)\n",
    "    print(in_data , \" : \" , logic_val)"
   ]
  },
  {
   "cell_type": "code",
   "execution_count": null,
   "id": "beb3f578-9f7f-4f1f-aecd-e0c50b8e4ab3",
   "metadata": {},
   "outputs": [],
   "source": []
  }
 ],
 "metadata": {
  "kernelspec": {
   "display_name": "Python 3 (ipykernel)",
   "language": "python",
   "name": "python3"
  },
  "language_info": {
   "codemirror_mode": {
    "name": "ipython",
    "version": 3
   },
   "file_extension": ".py",
   "mimetype": "text/x-python",
   "name": "python",
   "nbconvert_exporter": "python",
   "pygments_lexer": "ipython3",
   "version": "3.10.12"
  }
 },
 "nbformat": 4,
 "nbformat_minor": 5
}
